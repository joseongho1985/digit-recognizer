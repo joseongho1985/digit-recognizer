{
 "cells": [
  {
   "cell_type": "code",
   "execution_count": 1,
   "metadata": {},
   "outputs": [],
   "source": [
    "import pandas as pd\n",
    "import torch\n",
    "import matplotlib.pyplot as plt"
   ]
  },
  {
   "cell_type": "code",
   "execution_count": 2,
   "metadata": {},
   "outputs": [
    {
     "name": "stdout",
     "output_type": "stream",
     "text": [
      "<class 'pandas.core.frame.DataFrame'>\n",
      "RangeIndex: 42000 entries, 0 to 41999\n",
      "Columns: 785 entries, label to pixel783\n",
      "dtypes: int64(785)\n",
      "memory usage: 251.5 MB\n"
     ]
    }
   ],
   "source": [
    "trainDF = pd.read_csv('train.csv')\n",
    "trainDF.info()"
   ]
  },
  {
   "cell_type": "code",
   "execution_count": 3,
   "metadata": {},
   "outputs": [
    {
     "name": "stdout",
     "output_type": "stream",
     "text": [
      "<class 'pandas.core.frame.DataFrame'>\n",
      "RangeIndex: 28000 entries, 0 to 27999\n",
      "Columns: 784 entries, pixel0 to pixel783\n",
      "dtypes: int64(784)\n",
      "memory usage: 167.5 MB\n"
     ]
    }
   ],
   "source": [
    "testDF = pd.read_csv('test.csv')\n",
    "testDF.info()"
   ]
  },
  {
   "cell_type": "code",
   "execution_count": 4,
   "metadata": {},
   "outputs": [
    {
     "name": "stdout",
     "output_type": "stream",
     "text": [
      "Using mps device\n"
     ]
    }
   ],
   "source": [
    "# Get cpu, gpu or mps device for training.\n",
    "device = (\n",
    "    \"cuda\"\n",
    "    if torch.cuda.is_available()\n",
    "    else \"mps\"\n",
    "    if torch.backends.mps.is_available()\n",
    "    else \"cpu\"\n",
    ")\n",
    "print(f\"Using {device} device\")"
   ]
  },
  {
   "cell_type": "code",
   "execution_count": 5,
   "metadata": {},
   "outputs": [
    {
     "data": {
      "text/plain": [
       "<__main__.MyDataset at 0x10ccebdd0>"
      ]
     },
     "execution_count": 5,
     "metadata": {},
     "output_type": "execute_result"
    }
   ],
   "source": [
    "class MyDataset(torch.utils.data.Dataset):\n",
    "    def __init__(self, DF):\n",
    "        if 'label' in DF.columns:\n",
    "            self.label = pd.get_dummies(DF['label']).values\n",
    "            DF = DF.drop(columns=['label'])\n",
    "        self.data = DF.values/255\n",
    "        pass\n",
    "\n",
    "    def __len__(self):\n",
    "        return len(self.data)\n",
    "\n",
    "    def __getitem__(self, idx):\n",
    "        x=self.data[idx].reshape(1,28,28)\n",
    "        x=torch.FloatTensor(x)\n",
    "        x=x.to(device)\n",
    "\n",
    "        if hasattr(self,'label'):\n",
    "            y=self.label[idx]\n",
    "            y=torch.FloatTensor(y)\n",
    "            y=y.to(device)\n",
    "            return x, y\n",
    "        else:\n",
    "            return x\n",
    "\n",
    "dataSet= MyDataset(DF=trainDF)\n",
    "testSet = MyDataset(DF= testDF)\n",
    "dataSet"
   ]
  },
  {
   "cell_type": "code",
   "execution_count": 6,
   "metadata": {},
   "outputs": [
    {
     "data": {
      "text/plain": [
       "[<torch.utils.data.dataset.Subset at 0x10cceb560>,\n",
       " <torch.utils.data.dataset.Subset at 0x10ccebfb0>]"
      ]
     },
     "execution_count": 6,
     "metadata": {},
     "output_type": "execute_result"
    }
   ],
   "source": [
    "splitSet = torch.utils.data.random_split(dataSet,(0.67,0.33))\n",
    "splitSet"
   ]
  },
  {
   "cell_type": "code",
   "execution_count": 7,
   "metadata": {},
   "outputs": [
    {
     "data": {
      "text/plain": [
       "<torch.utils.data.dataloader.DataLoader at 0x10ccebfe0>"
      ]
     },
     "execution_count": 7,
     "metadata": {},
     "output_type": "execute_result"
    }
   ],
   "source": [
    "trainLoader=torch.utils.data.DataLoader(splitSet[0],batch_size=1024,sampler=torch.utils.data.RandomSampler(splitSet[0]))\n",
    "valLoader=torch.utils.data.DataLoader(splitSet[1],batch_size=1024,sampler=torch.utils.data.RandomSampler(splitSet[1]))\n",
    "testLoader = torch.utils.data.DataLoader(testSet,batch_size=1024)\n",
    "trainLoader"
   ]
  },
  {
   "cell_type": "code",
   "execution_count": 8,
   "metadata": {},
   "outputs": [],
   "source": [
    "\n",
    "class Net(torch.nn.Module):\n",
    "    def __init__(self):\n",
    "        super().__init__()\n",
    "        self.convStack = torch.nn.Sequential(\n",
    "            torch.nn.Conv2d(1, 1, 3),\n",
    "            torch.nn.ReLU(),\n",
    "            torch.nn.MaxPool2d(2, 2),\n",
    "            torch.nn.Conv2d(1, 1, 3),\n",
    "            torch.nn.ReLU(),\n",
    "            torch.nn.MaxPool2d(2, 2),\n",
    "            torch.nn.Flatten(),\n",
    "            torch.nn.Linear(25, 25),\n",
    "            torch.nn.ReLU(),\n",
    "            torch.nn.Linear(25, 10),\n",
    "        )\n",
    "\n",
    "    def forward(self, x):\n",
    "        logits = self.convStack(x)\n",
    "        return logits\n",
    "\n",
    "\n",
    "\n",
    "model = Net().to(device)"
   ]
  },
  {
   "cell_type": "code",
   "execution_count": 9,
   "metadata": {},
   "outputs": [
    {
     "name": "stdout",
     "output_type": "stream",
     "text": [
      "[0.1] cnt: 0 - val loss: 32.27458667755127 - train loss: 64.58978319168091\n",
      "[0.1] cnt: 0 - val loss: 32.19982862472534 - train loss: 64.43271946907043\n",
      "[0.1] cnt: 0 - val loss: 32.073424339294434 - train loss: 64.23888158798218\n",
      "[0.1] cnt: 0 - val loss: 31.807024002075195 - train loss: 63.879791259765625\n",
      "[0.1] cnt: 0 - val loss: 30.815406322479248 - train loss: 62.87279391288757\n",
      "[0.1] cnt: 0 - val loss: 22.85480761528015 - train loss: 56.62865996360779\n",
      "[0.1] cnt: 0 - val loss: 12.946497976779938 - train loss: 32.75244116783142\n",
      "[0.1] cnt: 0 - val loss: 10.411770462989807 - train loss: 23.57709974050522\n",
      "[0.1] cnt: 0 - val loss: 9.610938727855682 - train loss: 19.300362169742584\n",
      "[0.1] cnt: 0 - val loss: 11.004771173000336 - train loss: 17.113190352916718\n",
      "[0.1] cnt: 1 - val loss: 7.302913397550583 - train loss: 15.828023999929428\n",
      "[0.1] cnt: 0 - val loss: 7.00317969918251 - train loss: 15.333980083465576\n",
      "[0.1] cnt: 0 - val loss: 7.011741042137146 - train loss: 14.465864926576614\n",
      "[0.1] cnt: 1 - val loss: 7.1408262848854065 - train loss: 13.61013412475586\n",
      "[0.1] cnt: 2 - val loss: 6.804764837026596 - train loss: 13.18909963965416\n",
      "[0.1] cnt: 0 - val loss: 6.272226959466934 - train loss: 12.787057846784592\n",
      "[0.1] cnt: 0 - val loss: 5.827495574951172 - train loss: 11.891427904367447\n",
      "[0.1] cnt: 0 - val loss: 5.8366339802742 - train loss: 11.63987123966217\n",
      "[0.1] cnt: 1 - val loss: 6.29504269361496 - train loss: 11.56465557217598\n",
      "[0.1] cnt: 2 - val loss: 6.0738480389118195 - train loss: 11.54532340168953\n",
      "[0.1] cnt: 3 - val loss: 6.042785346508026 - train loss: 11.034779459238052\n",
      "[0.1] cnt: 4 - val loss: 5.635218948125839 - train loss: 10.860843986272812\n",
      "[0.1] cnt: 0 - val loss: 5.1864403784275055 - train loss: 10.413901597261429\n",
      "[0.1] cnt: 0 - val loss: 5.211766242980957 - train loss: 10.474039047956467\n",
      "[0.1] cnt: 1 - val loss: 5.243011623620987 - train loss: 10.480721116065979\n",
      "[0.1] cnt: 2 - val loss: 6.644999474287033 - train loss: 10.037046760320663\n",
      "[0.1] cnt: 3 - val loss: 5.157346218824387 - train loss: 10.360034108161926\n",
      "[0.1] cnt: 0 - val loss: 4.8668308556079865 - train loss: 9.861104190349579\n",
      "[0.1] cnt: 0 - val loss: 4.907963573932648 - train loss: 9.775149196386337\n",
      "[0.1] cnt: 1 - val loss: 7.3622115552425385 - train loss: 9.191635340452194\n",
      "[0.1] cnt: 2 - val loss: 4.932603418827057 - train loss: 9.590006113052368\n",
      "[0.1] cnt: 3 - val loss: 4.969139873981476 - train loss: 9.273041874170303\n",
      "[0.1] cnt: 4 - val loss: 4.951165944337845 - train loss: 9.051339849829674\n",
      "[0.1] cnt: 5 - val loss: 4.672425091266632 - train loss: 9.4073266685009\n",
      "[0.1] cnt: 0 - val loss: 4.556376755237579 - train loss: 9.056026130914688\n",
      "[0.1] cnt: 0 - val loss: 4.546523749828339 - train loss: 9.125255942344666\n",
      "[0.1] cnt: 0 - val loss: 4.350286483764648 - train loss: 9.235411077737808\n",
      "[0.1] cnt: 0 - val loss: 4.475243628025055 - train loss: 8.709728926420212\n",
      "[0.1] cnt: 1 - val loss: 4.6684994995594025 - train loss: 8.733245521783829\n",
      "[0.1] cnt: 2 - val loss: 4.354918301105499 - train loss: 9.1154166162014\n",
      "[0.1] cnt: 3 - val loss: 4.440128564834595 - train loss: 8.239409148693085\n",
      "[0.1] cnt: 4 - val loss: 4.404401659965515 - train loss: 8.730071038007736\n",
      "[0.1] cnt: 5 - val loss: 4.305028587579727 - train loss: 8.226240828633308\n",
      "[0.1] cnt: 0 - val loss: 5.049482494592667 - train loss: 8.482999563217163\n",
      "[0.1] cnt: 1 - val loss: 4.229577481746674 - train loss: 8.389085426926613\n",
      "[0.1] cnt: 0 - val loss: 4.192527174949646 - train loss: 8.374423295259476\n",
      "[0.1] cnt: 0 - val loss: 4.5602483451366425 - train loss: 8.042914360761642\n",
      "[0.1] cnt: 1 - val loss: 4.137338787317276 - train loss: 8.587166801095009\n",
      "[0.1] cnt: 0 - val loss: 4.574656784534454 - train loss: 8.008558169007301\n",
      "[0.1] cnt: 1 - val loss: 4.177430257201195 - train loss: 7.762913405895233\n",
      "[0.1] cnt: 2 - val loss: 4.179645627737045 - train loss: 8.13463243842125\n",
      "[0.1] cnt: 3 - val loss: 4.788147509098053 - train loss: 8.208719566464424\n",
      "[0.1] cnt: 4 - val loss: 4.2055317759513855 - train loss: 7.945094496011734\n",
      "[0.1] cnt: 5 - val loss: 4.171936601400375 - train loss: 7.862613096833229\n",
      "[0.1] cnt: 6 - val loss: 4.551254570484161 - train loss: 7.912476643919945\n",
      "[0.1] cnt: 7 - val loss: 4.660064458847046 - train loss: 8.087522760033607\n",
      "[0.1] cnt: 8 - val loss: 4.182945609092712 - train loss: 7.784605726599693\n",
      "[0.1] cnt: 9 - val loss: 4.180052727460861 - train loss: 7.687532544136047\n",
      "[0.010000000000000002] cnt: 0 - val loss: 3.7365539371967316 - train loss: 7.012764468789101\n",
      "[0.010000000000000002] cnt: 0 - val loss: 3.6897497475147247 - train loss: 6.913343042135239\n",
      "[0.010000000000000002] cnt: 0 - val loss: 3.7284227907657623 - train loss: 6.8940868228673935\n",
      "[0.010000000000000002] cnt: 1 - val loss: 3.731885999441147 - train loss: 6.881091386079788\n",
      "[0.010000000000000002] cnt: 2 - val loss: 3.6931352615356445 - train loss: 6.839132770895958\n",
      "[0.010000000000000002] cnt: 3 - val loss: 3.686027094721794 - train loss: 6.847140461206436\n",
      "[0.010000000000000002] cnt: 0 - val loss: 3.706828385591507 - train loss: 6.919043302536011\n",
      "[0.010000000000000002] cnt: 1 - val loss: 3.6882081478834152 - train loss: 6.849326029419899\n",
      "[0.010000000000000002] cnt: 2 - val loss: 3.658934101462364 - train loss: 6.857963740825653\n",
      "[0.010000000000000002] cnt: 0 - val loss: 3.7121876180171967 - train loss: 6.806811437010765\n",
      "[0.010000000000000002] cnt: 1 - val loss: 3.6795391887426376 - train loss: 6.811916887760162\n",
      "[0.010000000000000002] cnt: 2 - val loss: 3.675824224948883 - train loss: 6.813459634780884\n",
      "[0.010000000000000002] cnt: 3 - val loss: 3.677448943257332 - train loss: 6.804653704166412\n",
      "[0.010000000000000002] cnt: 4 - val loss: 3.65350478887558 - train loss: 6.784273937344551\n",
      "[0.010000000000000002] cnt: 0 - val loss: 3.7037905007600784 - train loss: 6.796772390604019\n",
      "[0.010000000000000002] cnt: 1 - val loss: 3.655226618051529 - train loss: 6.79136897623539\n",
      "[0.010000000000000002] cnt: 2 - val loss: 3.6544519513845444 - train loss: 6.814905062317848\n",
      "[0.010000000000000002] cnt: 3 - val loss: 3.6591214537620544 - train loss: 6.782864987850189\n",
      "[0.010000000000000002] cnt: 4 - val loss: 3.6828932017087936 - train loss: 6.8025448471307755\n",
      "[0.010000000000000002] cnt: 5 - val loss: 3.6737097948789597 - train loss: 6.810643166303635\n",
      "[0.010000000000000002] cnt: 6 - val loss: 3.702533259987831 - train loss: 6.7337245643138885\n",
      "[0.010000000000000002] cnt: 7 - val loss: 3.6361117511987686 - train loss: 6.74716092646122\n",
      "[0.010000000000000002] cnt: 0 - val loss: 3.65490460395813 - train loss: 6.729430839419365\n",
      "[0.010000000000000002] cnt: 1 - val loss: 3.671137809753418 - train loss: 6.730103686451912\n",
      "[0.010000000000000002] cnt: 2 - val loss: 3.672937512397766 - train loss: 6.770498767495155\n",
      "[0.010000000000000002] cnt: 3 - val loss: 3.6550479531288147 - train loss: 6.735037729144096\n",
      "[0.010000000000000002] cnt: 4 - val loss: 3.6498337984085083 - train loss: 6.762723490595818\n",
      "[0.010000000000000002] cnt: 5 - val loss: 3.650144100189209 - train loss: 6.716692641377449\n",
      "[0.010000000000000002] cnt: 6 - val loss: 3.6358241885900497 - train loss: 6.702467441558838\n",
      "[0.010000000000000002] cnt: 0 - val loss: 3.6399826407432556 - train loss: 6.711625635623932\n",
      "[0.010000000000000002] cnt: 1 - val loss: 3.6339571475982666 - train loss: 6.698533445596695\n",
      "[0.010000000000000002] cnt: 0 - val loss: 3.6128734350204468 - train loss: 6.748942390084267\n",
      "[0.010000000000000002] cnt: 0 - val loss: 3.6857214123010635 - train loss: 6.72358113527298\n",
      "[0.010000000000000002] cnt: 1 - val loss: 3.614857316017151 - train loss: 6.702872201800346\n",
      "[0.010000000000000002] cnt: 2 - val loss: 3.639157623052597 - train loss: 6.68161503970623\n",
      "[0.010000000000000002] cnt: 3 - val loss: 3.6230657398700714 - train loss: 6.7171768844127655\n",
      "[0.010000000000000002] cnt: 4 - val loss: 3.6196754723787308 - train loss: 6.697105839848518\n",
      "[0.010000000000000002] cnt: 5 - val loss: 3.6534777134656906 - train loss: 6.663544669747353\n",
      "[0.010000000000000002] cnt: 6 - val loss: 3.623096287250519 - train loss: 6.655084028840065\n",
      "[0.010000000000000002] cnt: 7 - val loss: 3.6223346292972565 - train loss: 6.636173740029335\n",
      "[0.010000000000000002] cnt: 8 - val loss: 3.600476026535034 - train loss: 6.672742694616318\n",
      "[0.010000000000000002] cnt: 0 - val loss: 3.637593165040016 - train loss: 6.661881223320961\n",
      "[0.010000000000000002] cnt: 1 - val loss: 3.6143973767757416 - train loss: 6.6489716321229935\n",
      "[0.010000000000000002] cnt: 2 - val loss: 3.6358118057250977 - train loss: 6.682811006903648\n",
      "[0.010000000000000002] cnt: 3 - val loss: 3.6544804871082306 - train loss: 6.649294555187225\n",
      "[0.010000000000000002] cnt: 4 - val loss: 3.6117818653583527 - train loss: 6.649535104632378\n",
      "[0.010000000000000002] cnt: 5 - val loss: 3.604173019528389 - train loss: 6.658548220992088\n",
      "[0.010000000000000002] cnt: 6 - val loss: 3.5976488888263702 - train loss: 6.622132197022438\n",
      "[0.010000000000000002] cnt: 0 - val loss: 3.6178001016378403 - train loss: 6.619268029928207\n",
      "[0.010000000000000002] cnt: 1 - val loss: 3.630745902657509 - train loss: 6.6079991310834885\n",
      "[0.010000000000000002] cnt: 2 - val loss: 3.6112769842147827 - train loss: 6.61761836707592\n",
      "[0.010000000000000002] cnt: 3 - val loss: 3.60954512655735 - train loss: 6.602510824799538\n",
      "[0.010000000000000002] cnt: 4 - val loss: 3.5585577338933945 - train loss: 6.5788596123456955\n",
      "[0.010000000000000002] cnt: 0 - val loss: 3.6072178930044174 - train loss: 6.598905071616173\n",
      "[0.010000000000000002] cnt: 1 - val loss: 3.5805439949035645 - train loss: 6.580070272088051\n",
      "[0.010000000000000002] cnt: 2 - val loss: 3.580186754465103 - train loss: 6.595544204115868\n",
      "[0.010000000000000002] cnt: 3 - val loss: 3.6154352724552155 - train loss: 6.60916905105114\n",
      "[0.010000000000000002] cnt: 4 - val loss: 3.6262546479701996 - train loss: 6.596148282289505\n",
      "[0.010000000000000002] cnt: 5 - val loss: 3.5945385545492172 - train loss: 6.56616273522377\n",
      "[0.010000000000000002] cnt: 6 - val loss: 3.608485624194145 - train loss: 6.547613859176636\n",
      "[0.010000000000000002] cnt: 7 - val loss: 3.5890122056007385 - train loss: 6.571436583995819\n",
      "[0.010000000000000002] cnt: 8 - val loss: 3.581680327653885 - train loss: 6.567068710923195\n",
      "[0.010000000000000002] cnt: 9 - val loss: 3.580211251974106 - train loss: 6.5534520745277405\n",
      "[0.0010000000000000002] cnt: 0 - val loss: 3.5947917252779007 - train loss: 6.548502266407013\n",
      "[0.0010000000000000002] cnt: 0 - val loss: 3.5441613644361496 - train loss: 6.556798458099365\n",
      "[0.0010000000000000002] cnt: 0 - val loss: 3.585476130247116 - train loss: 6.536648482084274\n",
      "[0.0010000000000000002] cnt: 1 - val loss: 3.581923633813858 - train loss: 6.554156973958015\n",
      "[0.0010000000000000002] cnt: 2 - val loss: 3.558332711458206 - train loss: 6.541014850139618\n",
      "[0.0010000000000000002] cnt: 3 - val loss: 3.611912503838539 - train loss: 6.499567702412605\n",
      "[0.0010000000000000002] cnt: 4 - val loss: 3.566055506467819 - train loss: 6.563272789120674\n",
      "[0.0010000000000000002] cnt: 5 - val loss: 3.588881194591522 - train loss: 6.5549129247665405\n",
      "[0.0010000000000000002] cnt: 6 - val loss: 3.5930052548646927 - train loss: 6.512236252427101\n",
      "[0.0010000000000000002] cnt: 7 - val loss: 3.5662313997745514 - train loss: 6.536554142832756\n",
      "[0.0010000000000000002] cnt: 8 - val loss: 3.560364469885826 - train loss: 6.539848864078522\n",
      "[0.0010000000000000002] cnt: 9 - val loss: 3.594677224755287 - train loss: 6.524519860744476\n"
     ]
    },
    {
     "data": {
      "text/plain": [
       "<matplotlib.legend.Legend at 0x11347e750>"
      ]
     },
     "execution_count": 9,
     "metadata": {},
     "output_type": "execute_result"
    },
    {
     "data": {
      "image/png": "[encoded data removed]",
      "text/plain": [
       "<Figure size 640x480 with 1 Axes>"
      ]
     },
     "metadata": {},
     "output_type": "display_data"
    }
   ],
   "source": [
    "def trainAI(dataLoader, model, loss_fn, optimizer):\n",
    "    model.train()\n",
    "    trainLoss=0\n",
    "    for  X, y in dataLoader:\n",
    "\n",
    "        # Compute prediction error\n",
    "        pred = model(X)\n",
    "        loss = loss_fn(pred, y)\n",
    "        trainLoss +=loss.item()\n",
    "\n",
    "        # Backpropagation\n",
    "        loss.backward()\n",
    "        optimizer.step()\n",
    "        optimizer.zero_grad()\n",
    "\n",
    "\n",
    "    return trainLoss\n",
    "\n",
    "def valAI(dataLoader, model, loss_fn,):\n",
    "    model.eval()\n",
    "    valLoss=0\n",
    "    with torch.no_grad():\n",
    "        for X,y in dataLoader:\n",
    "            pred = model(X)\n",
    "            loss = loss_fn(pred, y)\n",
    "            valLoss+=loss.item()\n",
    "    \n",
    "    return valLoss\n",
    "\n",
    "loss_fn = torch.nn.CrossEntropyLoss()\n",
    "optimizer= torch.optim.SGD(model.parameters(),lr=0.1)\n",
    "trainHistory=[]\n",
    "valHistory=[]\n",
    "lrScheduler = torch.optim.lr_scheduler.StepLR(optimizer, step_size=1, gamma=0.1)\n",
    "\n",
    "for phase in range(3):\n",
    "    bestLoss = float('inf')\n",
    "    cnt = 0\n",
    "    bestModel = model\n",
    "\n",
    "    while(cnt<10):\n",
    "        trainLoss = trainAI(trainLoader, model, loss_fn, optimizer) \n",
    "        valLoss = valAI(valLoader, model, loss_fn)\n",
    "        # scheduler.step()\n",
    "\n",
    "        trainHistory.append(trainLoss)\n",
    "        valHistory.append(valLoss)\n",
    "\n",
    "        if bestLoss < valLoss:\n",
    "            cnt +=1\n",
    "        else:\n",
    "            bestLoss = valLoss\n",
    "            bestModel = model\n",
    "            cnt =0 \n",
    "\n",
    "        print(f'{lrScheduler.get_last_lr()} cnt: {cnt} - val loss: {valLoss} - train loss: {trainLoss}')\n",
    "        \n",
    "    model = bestModel\n",
    "    lrScheduler.step()\n",
    "\n",
    "plt.plot(trainHistory,label='train')\n",
    "plt.plot(valHistory, label='val')\n",
    "plt.legend() "
   ]
  },
  {
   "cell_type": "code",
   "execution_count": 10,
   "metadata": {},
   "outputs": [
    {
     "data": {
      "text/plain": [
       "0.9206349206349206"
      ]
     },
     "execution_count": 10,
     "metadata": {},
     "output_type": "execute_result"
    }
   ],
   "source": [
    "def accuracyAI(dataloader, model):\n",
    "    model.eval()\n",
    "    correct = 0\n",
    "    total = 0\n",
    "    with torch.no_grad():\n",
    "        for X, y  in dataloader:\n",
    "            pred = model(X)\n",
    "\n",
    "            for idx, i in enumerate(pred):\n",
    "                if torch.argmax(i)== torch.argmax(y[idx]):\n",
    "                    correct +=1 \n",
    "                total+=1\n",
    "    return correct / total\n",
    "\n",
    "accuracyAI(valLoader, bestModel)"
   ]
  },
  {
   "cell_type": "code",
   "execution_count": 11,
   "metadata": {},
   "outputs": [
    {
     "data": {
      "text/plain": [
       "[1, 2]"
      ]
     },
     "execution_count": 11,
     "metadata": {},
     "output_type": "execute_result"
    }
   ],
   "source": [
    "def testAI(dataloader, model):\n",
    "    model.eval()\n",
    "    out = []\n",
    "    y=1\n",
    "    with torch.no_grad():\n",
    "        for X in dataloader:\n",
    "            pred = model(X)\n",
    "            for i in pred:\n",
    "                out.append([y, torch.argmax(i).item()])\n",
    "                y+=1\n",
    "\n",
    "    \n",
    "    return out\n",
    "\n",
    "result = testAI(testLoader, bestModel) \n",
    "# result = testAI(testLoader[0], model[0])\n",
    "result[0]"
   ]
  },
  {
   "cell_type": "code",
   "execution_count": 12,
   "metadata": {},
   "outputs": [
    {
     "data": {
      "text/html": [
       "<div>\n",
       "<style scoped>\n",
       "    .dataframe tbody tr th:only-of-type {\n",
       "        vertical-align: middle;\n",
       "    }\n",
       "\n",
       "    .dataframe tbody tr th {\n",
       "        vertical-align: top;\n",
       "    }\n",
       "\n",
       "    .dataframe thead th {\n",
       "        text-align: right;\n",
       "    }\n",
       "</style>\n",
       "<table border=\"1\" class=\"dataframe\">\n",
       "  <thead>\n",
       "    <tr style=\"text-align: right;\">\n",
       "      <th></th>\n",
       "      <th>ImageId</th>\n",
       "      <th>Label</th>\n",
       "    </tr>\n",
       "  </thead>\n",
       "  <tbody>\n",
       "    <tr>\n",
       "      <th>0</th>\n",
       "      <td>1</td>\n",
       "      <td>2</td>\n",
       "    </tr>\n",
       "    <tr>\n",
       "      <th>1</th>\n",
       "      <td>2</td>\n",
       "      <td>0</td>\n",
       "    </tr>\n",
       "    <tr>\n",
       "      <th>2</th>\n",
       "      <td>3</td>\n",
       "      <td>9</td>\n",
       "    </tr>\n",
       "    <tr>\n",
       "      <th>3</th>\n",
       "      <td>4</td>\n",
       "      <td>4</td>\n",
       "    </tr>\n",
       "    <tr>\n",
       "      <th>4</th>\n",
       "      <td>5</td>\n",
       "      <td>3</td>\n",
       "    </tr>\n",
       "    <tr>\n",
       "      <th>...</th>\n",
       "      <td>...</td>\n",
       "      <td>...</td>\n",
       "    </tr>\n",
       "    <tr>\n",
       "      <th>27995</th>\n",
       "      <td>27996</td>\n",
       "      <td>9</td>\n",
       "    </tr>\n",
       "    <tr>\n",
       "      <th>27996</th>\n",
       "      <td>27997</td>\n",
       "      <td>7</td>\n",
       "    </tr>\n",
       "    <tr>\n",
       "      <th>27997</th>\n",
       "      <td>27998</td>\n",
       "      <td>3</td>\n",
       "    </tr>\n",
       "    <tr>\n",
       "      <th>27998</th>\n",
       "      <td>27999</td>\n",
       "      <td>9</td>\n",
       "    </tr>\n",
       "    <tr>\n",
       "      <th>27999</th>\n",
       "      <td>28000</td>\n",
       "      <td>2</td>\n",
       "    </tr>\n",
       "  </tbody>\n",
       "</table>\n",
       "<p>28000 rows × 2 columns</p>\n",
       "</div>"
      ],
      "text/plain": [
       "       ImageId  Label\n",
       "0            1      2\n",
       "1            2      0\n",
       "2            3      9\n",
       "3            4      4\n",
       "4            5      3\n",
       "...        ...    ...\n",
       "27995    27996      9\n",
       "27996    27997      7\n",
       "27997    27998      3\n",
       "27998    27999      9\n",
       "27999    28000      2\n",
       "\n",
       "[28000 rows x 2 columns]"
      ]
     },
     "execution_count": 12,
     "metadata": {},
     "output_type": "execute_result"
    }
   ],
   "source": [
    "outDF= pd.DataFrame(result)\n",
    "outDF= outDF.astype(int)\n",
    "outDF.columns=['ImageId','Label']\n",
    "outDF"
   ]
  },
  {
   "cell_type": "code",
   "execution_count": 13,
   "metadata": {},
   "outputs": [],
   "source": [
    "outDF.to_csv('result.csv',index=False)"
   ]
  }
 ],
 "metadata": {
  "kernelspec": {
   "display_name": "Python 3 (ipykernel)",
   "language": "python",
   "name": "python3"
  },
  "language_info": {
   "codemirror_mode": {
    "name": "ipython",
    "version": 3
   },
   "file_extension": ".py",
   "mimetype": "text/x-python",
   "name": "python",
   "nbconvert_exporter": "python",
   "pygments_lexer": "ipython3",
   "version": "3.12.4"
  }
 },
 "nbformat": 4,
 "nbformat_minor": 4
}
